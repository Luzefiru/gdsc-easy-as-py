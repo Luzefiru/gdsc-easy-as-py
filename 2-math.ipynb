{
 "cells": [
  {
   "attachments": {},
   "cell_type": "markdown",
   "metadata": {},
   "source": [
    "# Numeric Operators\n",
    "\n",
    "They work as intended on `int` and `float` numbers, but may act differently with `str` or `bool`.\n",
    "\n",
    "> better experiment & if you find something acting unexpectedly, **research the implementation**!\n",
    "\n",
    "| Python Operator | Mathematical Operation | C Operator |\n",
    "|-----------------|------------------------|------------|\n",
    "|+| Addition | + |\n",
    "|-| Subtraction | - |\n",
    "|*| Multiplication | * |\n",
    "|/| Division | / |\n",
    "|**| **Power** | pow(base, exponent) |\n",
    "|%| Remainder | % |\n",
    "\n",
    "Python has the power operator implemented by default and is denoted by `**`."
   ]
  },
  {
   "cell_type": "code",
   "execution_count": null,
   "metadata": {},
   "outputs": [],
   "source": [
    "# assign the expression {1 + 3.2} to the variable named x\n",
    "x = 1 + 3.2\n",
    "# print the value of x\n",
    "print(f\"The value of x is = {x}\")"
   ]
  },
  {
   "cell_type": "code",
   "execution_count": null,
   "metadata": {},
   "outputs": [],
   "source": [
    "# 2 raised to 3\n",
    "print(f\"2^3 is = {2 ** 3}\")"
   ]
  },
  {
   "cell_type": "code",
   "execution_count": null,
   "metadata": {},
   "outputs": [],
   "source": [
    "# str plus a number\n",
    "x = \"str\" + 1\n",
    "print(x)"
   ]
  },
  {
   "cell_type": "code",
   "execution_count": null,
   "metadata": {},
   "outputs": [],
   "source": [
    "# str plus a str\n",
    "x = \"Hello \" + \"World\"\n",
    "print(x)"
   ]
  },
  {
   "cell_type": "code",
   "execution_count": null,
   "metadata": {},
   "outputs": [],
   "source": [
    "# what will happen?\n",
    "x = 1 + True\n",
    "print(f\"The value of x is {x} with a type of {type(x)}\")\n",
    "\n",
    "# huh, that's weird, let me try rearranging\n",
    "x = True + 1\n",
    "print(f\"The value of x is {x} with a type of {type(x)}\")\n",
    "\n",
    "# what? how about False?\n",
    "x = False + 1\n",
    "print(f\"The value of x is {x} with a type of {type(x)}\")\n",
    "\n",
    "# interesting, how about when both operands are bool types?\n",
    "x = False + True\n",
    "print(f\"The value of x is {x} with a type of {type(x)}\")"
   ]
  },
  {
   "attachments": {},
   "cell_type": "markdown",
   "metadata": {},
   "source": [
    "# Type Casting in Python\n",
    "\n",
    "Type casting in Python is as easy as typing the type's respective function `dataType(expr)`.\n",
    "- This converts the `expr` into your `dataType` of choice."
   ]
  },
  {
   "cell_type": "code",
   "execution_count": null,
   "metadata": {},
   "outputs": [],
   "source": [
    "x = \"5\"\n",
    "print(\"Old type:\", type(x), x)\n",
    "\n",
    "x = int(x)\n",
    "print(\"New type:\", type(x), x) # looks like we can turn str into numbers with ease\n",
    "\n",
    "x = bool(x)\n",
    "print(\"In bool:\", type(x), x)  # bool() returns based on 'Truthy'/'Falsy' vaues\n",
    "print(bool(None), bool(\"\"), bool(\"hi\"), bool(0), bool(-1153), bool(1231))"
   ]
  },
  {
   "attachments": {},
   "cell_type": "markdown",
   "metadata": {},
   "source": [
    "# 'Falsy' Values When Passed Into `bool()`\n",
    "\n",
    "Here are a few cases, in which Python’s `bool()` method returns false.\n",
    "\n",
    "- If a `False` value is passed\n",
    "- If `None` is passed\n",
    "- If an empty sequence is passed, such as `()`, `[]`, `\"\"`, etc.\n",
    "- If Zero is passed in any numeric type, such as `0`, `0.0` etc\n",
    "- If an empty mapping is passed, such as `{}`\n",
    "- If Objects of Classes having __bool__() or __len()__ method, returning `0` or `False`\n",
    "\n",
    "<u>Everything outside this list should return `True`</u>"
   ]
  }
 ],
 "metadata": {
  "kernelspec": {
   "display_name": "Python 3",
   "language": "python",
   "name": "python3"
  },
  "language_info": {
   "codemirror_mode": {
    "name": "ipython",
    "version": 3
   },
   "file_extension": ".py",
   "mimetype": "text/x-python",
   "name": "python",
   "nbconvert_exporter": "python",
   "pygments_lexer": "ipython3",
   "version": "3.10.4"
  },
  "orig_nbformat": 4,
  "vscode": {
   "interpreter": {
    "hash": "f2ccb58c476f33ba3e3aee7ac07234ef6b8217ef24ad64d2a7d4fed1a57c1cd2"
   }
  }
 },
 "nbformat": 4,
 "nbformat_minor": 2
}
