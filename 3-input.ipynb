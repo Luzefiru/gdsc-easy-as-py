{
 "cells": [
  {
   "attachments": {},
   "cell_type": "markdown",
   "metadata": {},
   "source": [
    "# The `input(prompt)` Function\n",
    "\n",
    "**Arguments**:\n",
    "- `prompt`: `str`, representing a default message before the input.\n",
    "\n",
    "**Returns**:\n",
    "- `str`, the input of the user into the terminal."
   ]
  },
  {
   "cell_type": "code",
   "execution_count": null,
   "metadata": {},
   "outputs": [],
   "source": [
    "user = input(\"Enter username:\")\n",
    "print(f\"Welcome back, {user}!\")"
   ]
  },
  {
   "cell_type": "code",
   "execution_count": null,
   "metadata": {},
   "outputs": [],
   "source": [
    "num = input(\"Enter a number to add to 2:\")\n",
    "result = 2 + num\n",
    "print(result)\n",
    "\n",
    "# THIS IS A COMMON PITFALL:\n",
    "# input() will ALWAYS return a str, so we have to convert it using type casting to a number\n",
    "# \"How do we fix it?\"\""
   ]
  },
  {
   "attachments": {},
   "cell_type": "markdown",
   "metadata": {},
   "source": [
    "# Project: Series Registration Form Generator\n",
    "\n",
    "### Specifications\n",
    "\n",
    "Make a Python script that asks for a multitude of fields to be inputted by the user;\n",
    "- `first_name`: the first name of the user\n",
    "- `last_name`: the last name of the user\n",
    "- `age`: the age of the user\n",
    "- `sex`: the sex of the user\n",
    "- `series_name`: the series the user wants to compete in\n",
    "\n",
    "The script must then ***print it out in a specific format*** to be printed out by a Thermal Printer as a receipt.\n",
    "\n",
    "### Sample Output\n",
    "\n",
    "```\n",
    "-------------------------\n",
    "YOUR REGISTRATION DETAILS\n",
    "-------------------------\n",
    "\n",
    "Name: de la Cruz, Juan\n",
    "Sex: M\n",
    "\n",
    "Age: 20\n",
    "Date of Birth: 2002\n",
    "\n",
    "Race: Python Grand Prix\n",
    "\n",
    "```\n"
   ]
  }
 ],
 "metadata": {
  "kernelspec": {
   "display_name": "Python 3",
   "language": "python",
   "name": "python3"
  },
  "language_info": {
   "codemirror_mode": {
    "name": "ipython",
    "version": 3
   },
   "file_extension": ".py",
   "mimetype": "text/x-python",
   "name": "python",
   "nbconvert_exporter": "python",
   "pygments_lexer": "ipython3",
   "version": "3.10.4"
  },
  "orig_nbformat": 4,
  "vscode": {
   "interpreter": {
    "hash": "f2ccb58c476f33ba3e3aee7ac07234ef6b8217ef24ad64d2a7d4fed1a57c1cd2"
   }
  }
 },
 "nbformat": 4,
 "nbformat_minor": 2
}
